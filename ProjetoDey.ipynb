{
 "cells": [
  {
   "cell_type": "code",
   "execution_count": 1,
   "metadata": {},
   "outputs": [],
   "source": [
    "import pandas as pd \n",
    "%matplotlib inline\n",
    "import matplotlib.pyplot as plt\n",
    "import numpy as np\n",
    "from sklearn.linear_model import LinearRegression\n",
    "from yellowbrick.regressor import ResidualsPlot\n",
    "from scipy.stats import norm"
   ]
  },
  {
   "cell_type": "code",
   "execution_count": 2,
   "metadata": {},
   "outputs": [
    {
     "data": {
      "text/html": [
       "<div>\n",
       "<style scoped>\n",
       "    .dataframe tbody tr th:only-of-type {\n",
       "        vertical-align: middle;\n",
       "    }\n",
       "\n",
       "    .dataframe tbody tr th {\n",
       "        vertical-align: top;\n",
       "    }\n",
       "\n",
       "    .dataframe thead th {\n",
       "        text-align: right;\n",
       "    }\n",
       "</style>\n",
       "<table border=\"1\" class=\"dataframe\">\n",
       "  <thead>\n",
       "    <tr style=\"text-align: right;\">\n",
       "      <th></th>\n",
       "      <th>NUMERO_ECONOMIAS_RES</th>\n",
       "      <th>NUMERO_ECONOMIAS_COM</th>\n",
       "      <th>NUMERO_ECONOMIAS_IND</th>\n",
       "      <th>NUMERO_ECONOMIAS_PUB</th>\n",
       "      <th>VOLUME_LIDO</th>\n",
       "    </tr>\n",
       "  </thead>\n",
       "  <tbody>\n",
       "    <tr>\n",
       "      <td>1033</td>\n",
       "      <td>1.0</td>\n",
       "      <td>NaN</td>\n",
       "      <td>NaN</td>\n",
       "      <td>NaN</td>\n",
       "      <td>18.0</td>\n",
       "    </tr>\n",
       "    <tr>\n",
       "      <td>777</td>\n",
       "      <td>1.0</td>\n",
       "      <td>NaN</td>\n",
       "      <td>NaN</td>\n",
       "      <td>NaN</td>\n",
       "      <td>24.0</td>\n",
       "    </tr>\n",
       "    <tr>\n",
       "      <td>344</td>\n",
       "      <td>1.0</td>\n",
       "      <td>NaN</td>\n",
       "      <td>NaN</td>\n",
       "      <td>NaN</td>\n",
       "      <td>NaN</td>\n",
       "    </tr>\n",
       "    <tr>\n",
       "      <td>291</td>\n",
       "      <td>1.0</td>\n",
       "      <td>NaN</td>\n",
       "      <td>NaN</td>\n",
       "      <td>NaN</td>\n",
       "      <td>16.0</td>\n",
       "    </tr>\n",
       "    <tr>\n",
       "      <td>812</td>\n",
       "      <td>1.0</td>\n",
       "      <td>NaN</td>\n",
       "      <td>NaN</td>\n",
       "      <td>NaN</td>\n",
       "      <td>NaN</td>\n",
       "    </tr>\n",
       "  </tbody>\n",
       "</table>\n",
       "</div>"
      ],
      "text/plain": [
       "      NUMERO_ECONOMIAS_RES  NUMERO_ECONOMIAS_COM  NUMERO_ECONOMIAS_IND  \\\n",
       "1033                   1.0                   NaN                   NaN   \n",
       "777                    1.0                   NaN                   NaN   \n",
       "344                    1.0                   NaN                   NaN   \n",
       "291                    1.0                   NaN                   NaN   \n",
       "812                    1.0                   NaN                   NaN   \n",
       "\n",
       "      NUMERO_ECONOMIAS_PUB  VOLUME_LIDO  \n",
       "1033                   NaN         18.0  \n",
       "777                    NaN         24.0  \n",
       "344                    NaN          NaN  \n",
       "291                    NaN         16.0  \n",
       "812                    NaN          NaN  "
      ]
     },
     "execution_count": 2,
     "metadata": {},
     "output_type": "execute_result"
    },
    {
     "data": {
      "text/html": [
       "<div>\n",
       "<style scoped>\n",
       "    .dataframe tbody tr th:only-of-type {\n",
       "        vertical-align: middle;\n",
       "    }\n",
       "\n",
       "    .dataframe tbody tr th {\n",
       "        vertical-align: top;\n",
       "    }\n",
       "\n",
       "    .dataframe thead th {\n",
       "        text-align: right;\n",
       "    }\n",
       "</style>\n",
       "<table border=\"1\" class=\"dataframe\">\n",
       "  <thead>\n",
       "    <tr style=\"text-align: right;\">\n",
       "      <th></th>\n",
       "      <th>NUMERO_ECONOMIAS_RES</th>\n",
       "      <th>NUMERO_ECONOMIAS_COM</th>\n",
       "      <th>NUMERO_ECONOMIAS_IND</th>\n",
       "      <th>NUMERO_ECONOMIAS_PUB</th>\n",
       "      <th>VOLUME_LIDO</th>\n",
       "    </tr>\n",
       "  </thead>\n",
       "  <tbody>\n",
       "    <tr>\n",
       "      <td>1033</td>\n",
       "      <td>1.0</td>\n",
       "      <td>NaN</td>\n",
       "      <td>NaN</td>\n",
       "      <td>NaN</td>\n",
       "      <td>18.0</td>\n",
       "    </tr>\n",
       "    <tr>\n",
       "      <td>777</td>\n",
       "      <td>1.0</td>\n",
       "      <td>NaN</td>\n",
       "      <td>NaN</td>\n",
       "      <td>NaN</td>\n",
       "      <td>24.0</td>\n",
       "    </tr>\n",
       "    <tr>\n",
       "      <td>344</td>\n",
       "      <td>1.0</td>\n",
       "      <td>NaN</td>\n",
       "      <td>NaN</td>\n",
       "      <td>NaN</td>\n",
       "      <td>NaN</td>\n",
       "    </tr>\n",
       "    <tr>\n",
       "      <td>291</td>\n",
       "      <td>1.0</td>\n",
       "      <td>NaN</td>\n",
       "      <td>NaN</td>\n",
       "      <td>NaN</td>\n",
       "      <td>16.0</td>\n",
       "    </tr>\n",
       "    <tr>\n",
       "      <td>812</td>\n",
       "      <td>1.0</td>\n",
       "      <td>NaN</td>\n",
       "      <td>NaN</td>\n",
       "      <td>NaN</td>\n",
       "      <td>NaN</td>\n",
       "    </tr>\n",
       "  </tbody>\n",
       "</table>\n",
       "</div>"
      ],
      "text/plain": [
       "      NUMERO_ECONOMIAS_RES  NUMERO_ECONOMIAS_COM  NUMERO_ECONOMIAS_IND  \\\n",
       "1033                   1.0                   NaN                   NaN   \n",
       "777                    1.0                   NaN                   NaN   \n",
       "344                    1.0                   NaN                   NaN   \n",
       "291                    1.0                   NaN                   NaN   \n",
       "812                    1.0                   NaN                   NaN   \n",
       "\n",
       "      NUMERO_ECONOMIAS_PUB  VOLUME_LIDO  \n",
       "1033                   NaN         18.0  \n",
       "777                    NaN         24.0  \n",
       "344                    NaN          NaN  \n",
       "291                    NaN         16.0  \n",
       "812                    NaN          NaN  "
      ]
     },
     "execution_count": 2,
     "metadata": {},
     "output_type": "execute_result"
    }
   ],
   "source": [
    "df=pd.read_csv('Sanova.csv',error_bad_lines=False,encoding='latin-1',sep=';',usecols=[25,26,27,28,29])\n",
    "df.sample(5)"
   ]
  },
  {
   "cell_type": "code",
   "execution_count": 3,
   "metadata": {},
   "outputs": [],
   "source": [
    "#limpandos os dados,substituindo Nan por 0\n",
    "df[\"NUMERO_ECONOMIAS_RES\"] = df[\"NUMERO_ECONOMIAS_RES\"].fillna(0)\n",
    "df[\"NUMERO_ECONOMIAS_COM\"] = df[\"NUMERO_ECONOMIAS_COM\"].fillna(0)\n",
    "df[\"NUMERO_ECONOMIAS_IND\"] = df[\"NUMERO_ECONOMIAS_IND\"].fillna(0)\n",
    "df[\"NUMERO_ECONOMIAS_PUB\"] = df[\"NUMERO_ECONOMIAS_PUB\"].fillna(0)\n",
    "df[\"VOLUME_LIDO\"] = df[\"VOLUME_LIDO\"].fillna(0)\n",
    "#criando novo coluna com o somatorio de todas as economias\n",
    "df['economias_tot']=df['NUMERO_ECONOMIAS_RES']+df['NUMERO_ECONOMIAS_COM']+df['NUMERO_ECONOMIAS_IND']+df['NUMERO_ECONOMIAS_PUB']"
   ]
  },
  {
   "cell_type": "code",
   "execution_count": 4,
   "metadata": {},
   "outputs": [
    {
     "data": {
      "text/html": [
       "<div>\n",
       "<style scoped>\n",
       "    .dataframe tbody tr th:only-of-type {\n",
       "        vertical-align: middle;\n",
       "    }\n",
       "\n",
       "    .dataframe tbody tr th {\n",
       "        vertical-align: top;\n",
       "    }\n",
       "\n",
       "    .dataframe thead th {\n",
       "        text-align: right;\n",
       "    }\n",
       "</style>\n",
       "<table border=\"1\" class=\"dataframe\">\n",
       "  <thead>\n",
       "    <tr style=\"text-align: right;\">\n",
       "      <th></th>\n",
       "      <th>NUMERO_ECONOMIAS_RES</th>\n",
       "      <th>NUMERO_ECONOMIAS_COM</th>\n",
       "      <th>NUMERO_ECONOMIAS_IND</th>\n",
       "      <th>NUMERO_ECONOMIAS_PUB</th>\n",
       "      <th>VOLUME_LIDO</th>\n",
       "      <th>economias_tot</th>\n",
       "    </tr>\n",
       "  </thead>\n",
       "  <tbody>\n",
       "    <tr>\n",
       "      <td>445</td>\n",
       "      <td>67.0</td>\n",
       "      <td>0.0</td>\n",
       "      <td>0.0</td>\n",
       "      <td>0.0</td>\n",
       "      <td>424.0</td>\n",
       "      <td>67.0</td>\n",
       "    </tr>\n",
       "    <tr>\n",
       "      <td>1102</td>\n",
       "      <td>50.0</td>\n",
       "      <td>0.0</td>\n",
       "      <td>0.0</td>\n",
       "      <td>0.0</td>\n",
       "      <td>353.0</td>\n",
       "      <td>50.0</td>\n",
       "    </tr>\n",
       "    <tr>\n",
       "      <td>1062</td>\n",
       "      <td>46.0</td>\n",
       "      <td>0.0</td>\n",
       "      <td>0.0</td>\n",
       "      <td>0.0</td>\n",
       "      <td>470.0</td>\n",
       "      <td>46.0</td>\n",
       "    </tr>\n",
       "    <tr>\n",
       "      <td>37</td>\n",
       "      <td>40.0</td>\n",
       "      <td>0.0</td>\n",
       "      <td>0.0</td>\n",
       "      <td>0.0</td>\n",
       "      <td>303.0</td>\n",
       "      <td>40.0</td>\n",
       "    </tr>\n",
       "    <tr>\n",
       "      <td>977</td>\n",
       "      <td>40.0</td>\n",
       "      <td>0.0</td>\n",
       "      <td>0.0</td>\n",
       "      <td>0.0</td>\n",
       "      <td>278.0</td>\n",
       "      <td>40.0</td>\n",
       "    </tr>\n",
       "  </tbody>\n",
       "</table>\n",
       "</div>"
      ],
      "text/plain": [
       "      NUMERO_ECONOMIAS_RES  NUMERO_ECONOMIAS_COM  NUMERO_ECONOMIAS_IND  \\\n",
       "445                   67.0                   0.0                   0.0   \n",
       "1102                  50.0                   0.0                   0.0   \n",
       "1062                  46.0                   0.0                   0.0   \n",
       "37                    40.0                   0.0                   0.0   \n",
       "977                   40.0                   0.0                   0.0   \n",
       "\n",
       "      NUMERO_ECONOMIAS_PUB  VOLUME_LIDO  economias_tot  \n",
       "445                    0.0        424.0           67.0  \n",
       "1102                   0.0        353.0           50.0  \n",
       "1062                   0.0        470.0           46.0  \n",
       "37                     0.0        303.0           40.0  \n",
       "977                    0.0        278.0           40.0  "
      ]
     },
     "execution_count": 4,
     "metadata": {},
     "output_type": "execute_result"
    },
    {
     "data": {
      "text/html": [
       "<div>\n",
       "<style scoped>\n",
       "    .dataframe tbody tr th:only-of-type {\n",
       "        vertical-align: middle;\n",
       "    }\n",
       "\n",
       "    .dataframe tbody tr th {\n",
       "        vertical-align: top;\n",
       "    }\n",
       "\n",
       "    .dataframe thead th {\n",
       "        text-align: right;\n",
       "    }\n",
       "</style>\n",
       "<table border=\"1\" class=\"dataframe\">\n",
       "  <thead>\n",
       "    <tr style=\"text-align: right;\">\n",
       "      <th></th>\n",
       "      <th>NUMERO_ECONOMIAS_RES</th>\n",
       "      <th>NUMERO_ECONOMIAS_COM</th>\n",
       "      <th>NUMERO_ECONOMIAS_IND</th>\n",
       "      <th>NUMERO_ECONOMIAS_PUB</th>\n",
       "      <th>VOLUME_LIDO</th>\n",
       "      <th>economias_tot</th>\n",
       "    </tr>\n",
       "  </thead>\n",
       "  <tbody>\n",
       "    <tr>\n",
       "      <td>445</td>\n",
       "      <td>67.0</td>\n",
       "      <td>0.0</td>\n",
       "      <td>0.0</td>\n",
       "      <td>0.0</td>\n",
       "      <td>424.0</td>\n",
       "      <td>67.0</td>\n",
       "    </tr>\n",
       "    <tr>\n",
       "      <td>1102</td>\n",
       "      <td>50.0</td>\n",
       "      <td>0.0</td>\n",
       "      <td>0.0</td>\n",
       "      <td>0.0</td>\n",
       "      <td>353.0</td>\n",
       "      <td>50.0</td>\n",
       "    </tr>\n",
       "    <tr>\n",
       "      <td>1062</td>\n",
       "      <td>46.0</td>\n",
       "      <td>0.0</td>\n",
       "      <td>0.0</td>\n",
       "      <td>0.0</td>\n",
       "      <td>470.0</td>\n",
       "      <td>46.0</td>\n",
       "    </tr>\n",
       "    <tr>\n",
       "      <td>37</td>\n",
       "      <td>40.0</td>\n",
       "      <td>0.0</td>\n",
       "      <td>0.0</td>\n",
       "      <td>0.0</td>\n",
       "      <td>303.0</td>\n",
       "      <td>40.0</td>\n",
       "    </tr>\n",
       "    <tr>\n",
       "      <td>977</td>\n",
       "      <td>40.0</td>\n",
       "      <td>0.0</td>\n",
       "      <td>0.0</td>\n",
       "      <td>0.0</td>\n",
       "      <td>278.0</td>\n",
       "      <td>40.0</td>\n",
       "    </tr>\n",
       "  </tbody>\n",
       "</table>\n",
       "</div>"
      ],
      "text/plain": [
       "      NUMERO_ECONOMIAS_RES  NUMERO_ECONOMIAS_COM  NUMERO_ECONOMIAS_IND  \\\n",
       "445                   67.0                   0.0                   0.0   \n",
       "1102                  50.0                   0.0                   0.0   \n",
       "1062                  46.0                   0.0                   0.0   \n",
       "37                    40.0                   0.0                   0.0   \n",
       "977                   40.0                   0.0                   0.0   \n",
       "\n",
       "      NUMERO_ECONOMIAS_PUB  VOLUME_LIDO  economias_tot  \n",
       "445                    0.0        424.0           67.0  \n",
       "1102                   0.0        353.0           50.0  \n",
       "1062                   0.0        470.0           46.0  \n",
       "37                     0.0        303.0           40.0  \n",
       "977                    0.0        278.0           40.0  "
      ]
     },
     "execution_count": 4,
     "metadata": {},
     "output_type": "execute_result"
    }
   ],
   "source": [
    "df_novo=df[df['economias_tot']!=0]\n",
    "df_novo=df_novo[df_novo['VOLUME_LIDO']!=0]\n",
    "df_novo=df_novo[df_novo['NUMERO_ECONOMIAS_COM']==0]\n",
    "df_novo=df_novo[df_novo['NUMERO_ECONOMIAS_IND']==0]\n",
    "df_novo=df_novo[df_novo['NUMERO_ECONOMIAS_PUB']==0]\n",
    "df_novo.nlargest(5,'NUMERO_ECONOMIAS_RES')\n",
    "#df_novo é um data frame onde os valores da economia total e volume lido sao diferentes de 0"
   ]
  },
  {
   "cell_type": "code",
   "execution_count": 5,
   "metadata": {},
   "outputs": [
    {
     "data": {
      "text/html": [
       "<div>\n",
       "<style scoped>\n",
       "    .dataframe tbody tr th:only-of-type {\n",
       "        vertical-align: middle;\n",
       "    }\n",
       "\n",
       "    .dataframe tbody tr th {\n",
       "        vertical-align: top;\n",
       "    }\n",
       "\n",
       "    .dataframe thead th {\n",
       "        text-align: right;\n",
       "    }\n",
       "</style>\n",
       "<table border=\"1\" class=\"dataframe\">\n",
       "  <thead>\n",
       "    <tr style=\"text-align: right;\">\n",
       "      <th></th>\n",
       "      <th>NUMERO_ECONOMIAS_RES</th>\n",
       "      <th>NUMERO_ECONOMIAS_COM</th>\n",
       "      <th>NUMERO_ECONOMIAS_IND</th>\n",
       "      <th>NUMERO_ECONOMIAS_PUB</th>\n",
       "      <th>VOLUME_LIDO</th>\n",
       "      <th>economias_tot</th>\n",
       "    </tr>\n",
       "  </thead>\n",
       "  <tbody>\n",
       "    <tr>\n",
       "      <td>1018</td>\n",
       "      <td>30.0</td>\n",
       "      <td>0.0</td>\n",
       "      <td>0.0</td>\n",
       "      <td>0.0</td>\n",
       "      <td>634.0</td>\n",
       "      <td>30.0</td>\n",
       "    </tr>\n",
       "    <tr>\n",
       "      <td>1062</td>\n",
       "      <td>46.0</td>\n",
       "      <td>0.0</td>\n",
       "      <td>0.0</td>\n",
       "      <td>0.0</td>\n",
       "      <td>470.0</td>\n",
       "      <td>46.0</td>\n",
       "    </tr>\n",
       "    <tr>\n",
       "      <td>445</td>\n",
       "      <td>67.0</td>\n",
       "      <td>0.0</td>\n",
       "      <td>0.0</td>\n",
       "      <td>0.0</td>\n",
       "      <td>424.0</td>\n",
       "      <td>67.0</td>\n",
       "    </tr>\n",
       "    <tr>\n",
       "      <td>1144</td>\n",
       "      <td>34.0</td>\n",
       "      <td>0.0</td>\n",
       "      <td>0.0</td>\n",
       "      <td>0.0</td>\n",
       "      <td>413.0</td>\n",
       "      <td>34.0</td>\n",
       "    </tr>\n",
       "    <tr>\n",
       "      <td>716</td>\n",
       "      <td>24.0</td>\n",
       "      <td>0.0</td>\n",
       "      <td>0.0</td>\n",
       "      <td>0.0</td>\n",
       "      <td>410.0</td>\n",
       "      <td>24.0</td>\n",
       "    </tr>\n",
       "  </tbody>\n",
       "</table>\n",
       "</div>"
      ],
      "text/plain": [
       "      NUMERO_ECONOMIAS_RES  NUMERO_ECONOMIAS_COM  NUMERO_ECONOMIAS_IND  \\\n",
       "1018                  30.0                   0.0                   0.0   \n",
       "1062                  46.0                   0.0                   0.0   \n",
       "445                   67.0                   0.0                   0.0   \n",
       "1144                  34.0                   0.0                   0.0   \n",
       "716                   24.0                   0.0                   0.0   \n",
       "\n",
       "      NUMERO_ECONOMIAS_PUB  VOLUME_LIDO  economias_tot  \n",
       "1018                   0.0        634.0           30.0  \n",
       "1062                   0.0        470.0           46.0  \n",
       "445                    0.0        424.0           67.0  \n",
       "1144                   0.0        413.0           34.0  \n",
       "716                    0.0        410.0           24.0  "
      ]
     },
     "execution_count": 5,
     "metadata": {},
     "output_type": "execute_result"
    },
    {
     "data": {
      "text/html": [
       "<div>\n",
       "<style scoped>\n",
       "    .dataframe tbody tr th:only-of-type {\n",
       "        vertical-align: middle;\n",
       "    }\n",
       "\n",
       "    .dataframe tbody tr th {\n",
       "        vertical-align: top;\n",
       "    }\n",
       "\n",
       "    .dataframe thead th {\n",
       "        text-align: right;\n",
       "    }\n",
       "</style>\n",
       "<table border=\"1\" class=\"dataframe\">\n",
       "  <thead>\n",
       "    <tr style=\"text-align: right;\">\n",
       "      <th></th>\n",
       "      <th>NUMERO_ECONOMIAS_RES</th>\n",
       "      <th>NUMERO_ECONOMIAS_COM</th>\n",
       "      <th>NUMERO_ECONOMIAS_IND</th>\n",
       "      <th>NUMERO_ECONOMIAS_PUB</th>\n",
       "      <th>VOLUME_LIDO</th>\n",
       "      <th>economias_tot</th>\n",
       "    </tr>\n",
       "  </thead>\n",
       "  <tbody>\n",
       "    <tr>\n",
       "      <td>1018</td>\n",
       "      <td>30.0</td>\n",
       "      <td>0.0</td>\n",
       "      <td>0.0</td>\n",
       "      <td>0.0</td>\n",
       "      <td>634.0</td>\n",
       "      <td>30.0</td>\n",
       "    </tr>\n",
       "    <tr>\n",
       "      <td>1062</td>\n",
       "      <td>46.0</td>\n",
       "      <td>0.0</td>\n",
       "      <td>0.0</td>\n",
       "      <td>0.0</td>\n",
       "      <td>470.0</td>\n",
       "      <td>46.0</td>\n",
       "    </tr>\n",
       "    <tr>\n",
       "      <td>445</td>\n",
       "      <td>67.0</td>\n",
       "      <td>0.0</td>\n",
       "      <td>0.0</td>\n",
       "      <td>0.0</td>\n",
       "      <td>424.0</td>\n",
       "      <td>67.0</td>\n",
       "    </tr>\n",
       "    <tr>\n",
       "      <td>1144</td>\n",
       "      <td>34.0</td>\n",
       "      <td>0.0</td>\n",
       "      <td>0.0</td>\n",
       "      <td>0.0</td>\n",
       "      <td>413.0</td>\n",
       "      <td>34.0</td>\n",
       "    </tr>\n",
       "    <tr>\n",
       "      <td>716</td>\n",
       "      <td>24.0</td>\n",
       "      <td>0.0</td>\n",
       "      <td>0.0</td>\n",
       "      <td>0.0</td>\n",
       "      <td>410.0</td>\n",
       "      <td>24.0</td>\n",
       "    </tr>\n",
       "  </tbody>\n",
       "</table>\n",
       "</div>"
      ],
      "text/plain": [
       "      NUMERO_ECONOMIAS_RES  NUMERO_ECONOMIAS_COM  NUMERO_ECONOMIAS_IND  \\\n",
       "1018                  30.0                   0.0                   0.0   \n",
       "1062                  46.0                   0.0                   0.0   \n",
       "445                   67.0                   0.0                   0.0   \n",
       "1144                  34.0                   0.0                   0.0   \n",
       "716                   24.0                   0.0                   0.0   \n",
       "\n",
       "      NUMERO_ECONOMIAS_PUB  VOLUME_LIDO  economias_tot  \n",
       "1018                   0.0        634.0           30.0  \n",
       "1062                   0.0        470.0           46.0  \n",
       "445                    0.0        424.0           67.0  \n",
       "1144                   0.0        413.0           34.0  \n",
       "716                    0.0        410.0           24.0  "
      ]
     },
     "execution_count": 5,
     "metadata": {},
     "output_type": "execute_result"
    }
   ],
   "source": [
    "df_novo.nlargest(5,'VOLUME_LIDO')"
   ]
  },
  {
   "cell_type": "code",
   "execution_count": 6,
   "metadata": {},
   "outputs": [],
   "source": [
    "x=df_novo['NUMERO_ECONOMIAS_RES'].values\n",
    "y=df_novo['VOLUME_LIDO'].values\n",
    "x=x.reshape(-1,1)\n",
    "y=y.reshape(-1,1)\n",
    "#correlação 86%"
   ]
  },
  {
   "cell_type": "code",
   "execution_count": 7,
   "metadata": {},
   "outputs": [
    {
     "data": {
      "text/plain": [
       "Text(0.5, 1.0, 'Volume lido em relação a Nº economias residenciais')"
      ]
     },
     "execution_count": 7,
     "metadata": {},
     "output_type": "execute_result"
    },
    {
     "data": {
      "text/plain": [
       "Text(0.5, 1.0, 'Volume lido em relação a Nº economias residenciais')"
      ]
     },
     "execution_count": 7,
     "metadata": {},
     "output_type": "execute_result"
    },
    {
     "data": {
      "image/png": "[encoded data removed]",
      "text/plain": [
       "<Figure size 432x288 with 1 Axes>"
      ]
     },
     "metadata": {
      "needs_background": "light"
     },
     "output_type": "display_data"
    },
    {
     "data": {
      "image/png": "[encoded data removed]",
      "text/plain": [
       "<Figure size 432x288 with 1 Axes>"
      ]
     },
     "metadata": {
      "needs_background": "light"
     },
     "output_type": "display_data"
    }
   ],
   "source": [
    "plt.scatter(x,y)\n",
    "modelo=LinearRegression()\n",
    "modelo.fit(x,y)\n",
    "plt.plot(x,modelo.predict(x),color='Pink')\n",
    "plt.xlabel('Nºde economias residenciais')\n",
    "plt.ylabel('volume lido')\n",
    "plt.title('Volume lido em relação a Nº economias residenciais')"
   ]
  },
  {
   "cell_type": "code",
   "execution_count": 8,
   "metadata": {},
   "outputs": [
    {
     "data": {
      "text/plain": [
       "array([[7.94043072]])"
      ]
     },
     "execution_count": 8,
     "metadata": {},
     "output_type": "execute_result"
    },
    {
     "data": {
      "text/plain": [
       "array([[7.94043072]])"
      ]
     },
     "execution_count": 8,
     "metadata": {},
     "output_type": "execute_result"
    }
   ],
   "source": [
    "modelo.intercept_#intercepctação\n",
    "modelo.coef_#inclinação"
   ]
  },
  {
   "cell_type": "code",
   "execution_count": 9,
   "metadata": {},
   "outputs": [
    {
     "data": {
      "text/plain": [
       "array([[107.42407223]])"
      ]
     },
     "execution_count": 9,
     "metadata": {},
     "output_type": "execute_result"
    },
    {
     "data": {
      "text/plain": [
       "array([[107.42407223]])"
      ]
     },
     "execution_count": 9,
     "metadata": {},
     "output_type": "execute_result"
    }
   ],
   "source": [
    "equação=modelo.intercept_+modelo.coef_*12\n",
    "equação"
   ]
  },
  {
   "cell_type": "code",
   "execution_count": 10,
   "metadata": {},
   "outputs": [
    {
     "data": {
      "image/png": "[encoded data removed]",
      "text/plain": [
       "<Figure size 432x288 with 2 Axes>"
      ]
     },
     "metadata": {
      "needs_background": "light"
     },
     "output_type": "display_data"
    },
    {
     "data": {
      "image/png": "[encoded data removed]",
      "text/plain": [
       "<Figure size 432x288 with 2 Axes>"
      ]
     },
     "metadata": {
      "needs_background": "light"
     },
     "output_type": "display_data"
    },
    {
     "data": {
      "text/plain": [
       "<matplotlib.axes._subplots.AxesSubplot at 0x1dbc4a79348>"
      ]
     },
     "execution_count": 10,
     "metadata": {},
     "output_type": "execute_result"
    },
    {
     "data": {
      "text/plain": [
       "<matplotlib.axes._subplots.AxesSubplot at 0x1dbc4a79348>"
      ]
     },
     "execution_count": 10,
     "metadata": {},
     "output_type": "execute_result"
    }
   ],
   "source": [
    "#residuos\n",
    "modelo._residues\n",
    "visualizador=ResidualsPlot(modelo)\n",
    "visualizador.fit(x,y)\n",
    "visualizador.poof()"
   ]
  },
  {
   "cell_type": "code",
   "execution_count": null,
   "metadata": {},
   "outputs": [],
   "source": []
  },
  {
   "cell_type": "code",
   "execution_count": null,
   "metadata": {},
   "outputs": [],
   "source": []
  },
  {
   "cell_type": "code",
   "execution_count": null,
   "metadata": {},
   "outputs": [],
   "source": []
  },
  {
   "cell_type": "code",
   "execution_count": null,
   "metadata": {},
   "outputs": [],
   "source": []
  },
  {
   "cell_type": "code",
   "execution_count": null,
   "metadata": {},
   "outputs": [],
   "source": []
  },
  {
   "cell_type": "code",
   "execution_count": null,
   "metadata": {},
   "outputs": [],
   "source": []
  }
 ],
 "metadata": {
  "kernelspec": {
   "display_name": "Python 3",
   "language": "python",
   "name": "python3"
  },
  "language_info": {
   "codemirror_mode": {
    "name": "ipython",
    "version": 3
   },
   "file_extension": ".py",
   "mimetype": "text/x-python",
   "name": "python",
   "nbconvert_exporter": "python",
   "pygments_lexer": "ipython3",
   "version": "3.7.4"
  }
 },
 "nbformat": 4,
 "nbformat_minor": 2
}
